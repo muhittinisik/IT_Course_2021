{
  "nbformat": 4,
  "nbformat_minor": 0,
  "metadata": {
    "colab": {
      "name": "Copy of 2021_03_27_python.ipynb",
      "provenance": []
    },
    "kernelspec": {
      "name": "python3",
      "display_name": "Python 3"
    },
    "language_info": {
      "name": "python"
    }
  },
  "cells": [
    {
      "cell_type": "code",
      "metadata": {
        "colab": {
          "base_uri": "https://localhost:8080/"
        },
        "id": "__5WAXDV_mWA",
        "outputId": "c6346554-ee76-4282-dc33-9b0e58f7a559"
      },
      "source": [
        "sentence = \"I live and work in Virginia\"\n",
        "\n",
        "print(sentence.upper())\n",
        "print(sentence.lower())\n",
        "print(sentence.swapcase())\n",
        "print(sentence)"
      ],
      "execution_count": null,
      "outputs": [
        {
          "output_type": "stream",
          "text": [
            "I LIVE AND WORK IN VIRGINIA\n",
            "i live and work in virginia\n",
            "i LIVE AND WORK IN vIRGINIA\n",
            "I live and work in Virginia\n"
          ],
          "name": "stdout"
        }
      ]
    },
    {
      "cell_type": "code",
      "metadata": {
        "colab": {
          "base_uri": "https://localhost:8080/"
        },
        "id": "slWdUy8GDIig",
        "outputId": "7d3b6faf-f2b1-4075-f1f6-84bef25253b5"
      },
      "source": [
        "sentence = \"I live and worK iN VirgiNIA\"\n",
        "title_sentence = sentence.title()\n",
        "print(title_sentence)\n",
        "\n",
        "changed_str = title_sentence.replace(\"i\", \"+\")\n",
        "\n",
        "\n",
        "print(changed_str)"
      ],
      "execution_count": null,
      "outputs": [
        {
          "output_type": "stream",
          "text": [
            "I Live And Work In Virginia\n",
            "I L+ve And Work In V+rg+n+a\n"
          ],
          "name": "stdout"
        }
      ]
    },
    {
      "cell_type": "code",
      "metadata": {
        "colab": {
          "base_uri": "https://localhost:8080/"
        },
        "id": "EK2aNaw4O0zI",
        "outputId": "f9442ec4-48e9-4e41-a2be-7b5f6bcc96b6"
      },
      "source": [
        "text = 'the bettEr the family, THE beTter the SOCIETY'\n",
        "print(text)\n",
        "#text =  text.title()\n",
        "\n",
        "text =  text.lower()\n",
        "print(text)"
      ],
      "execution_count": null,
      "outputs": [
        {
          "output_type": "stream",
          "text": [
            "the bettEr the family, THE beTter the SOCIETY\n",
            "the better the family, the better the society\n"
          ],
          "name": "stdout"
        }
      ]
    },
    {
      "cell_type": "code",
      "metadata": {
        "colab": {
          "base_uri": "https://localhost:8080/"
        },
        "id": "xT-tsnjKQR8B",
        "outputId": "d99b188b-c3eb-4df0-fb55-fd5fae85012a"
      },
      "source": [
        "txt = \"abckr trşuyışıçhl yşrpofok fçllgotıkf. dkefglşrşg\"\n",
        "txt1 = txt.split(\" \")\n",
        "\n",
        "for i in txt1:\n",
        "  print(i.strip().capitalize()+\" \", end=\" \")"
      ],
      "execution_count": null,
      "outputs": [
        {
          "output_type": "stream",
          "text": [
            "Abckr  Trşuyışıçhl  Yşrpofok  Fçllgotıkf.  Dkefglşrşg  "
          ],
          "name": "stdout"
        }
      ]
    },
    {
      "cell_type": "code",
      "metadata": {
        "colab": {
          "base_uri": "https://localhost:8080/"
        },
        "id": "Ru1a8_8OQ1bo",
        "outputId": "d39a4ebb-e89a-4e8a-f5a5-69779f6717b8"
      },
      "source": [
        "test = \"test cümlesi\"\n",
        "\n",
        "print(test.swapcase())\n",
        "print(\"test cümlesi\".swapcase())\n",
        "\n",
        "print(str.swapcase(test))"
      ],
      "execution_count": null,
      "outputs": [
        {
          "output_type": "stream",
          "text": [
            "TEST CÜMLESI\n",
            "TEST CÜMLESI\n",
            "TEST CÜMLESI\n"
          ],
          "name": "stdout"
        }
      ]
    },
    {
      "cell_type": "code",
      "metadata": {
        "colab": {
          "base_uri": "https://localhost:8080/"
        },
        "id": "cMFTPdRGR0Y_",
        "outputId": "185998c0-50a0-4736-8628-efc2e2ef57e6"
      },
      "source": [
        "test = \"test cümlesi\"\n",
        "\n",
        "print(test.swapcase().lower().upper())"
      ],
      "execution_count": null,
      "outputs": [
        {
          "output_type": "stream",
          "text": [
            "TEST CÜMLESI\n"
          ],
          "name": "stdout"
        }
      ]
    },
    {
      "cell_type": "code",
      "metadata": {
        "colab": {
          "base_uri": "https://localhost:8080/"
        },
        "id": "y6mBU3qvSPrB",
        "outputId": "0963b8ad-9eec-431a-e390-5209a60dea5f"
      },
      "source": [
        "text = 'S0d0me and G0m0re'\n",
        "\n",
        "text = text.replace(\"0\", \"o\")\n",
        "\n",
        "print(text)"
      ],
      "execution_count": null,
      "outputs": [
        {
          "output_type": "stream",
          "text": [
            "Sodome and Gomore\n"
          ],
          "name": "stdout"
        }
      ]
    },
    {
      "cell_type": "code",
      "metadata": {
        "colab": {
          "base_uri": "https://localhost:8080/"
        },
        "id": "xQ4nA-UeXKWK",
        "outputId": "cb4ec82d-7d3a-481e-cce6-f029bd042b9f"
      },
      "source": [
        "ornek = \"eee      başında ve sonunda boşluk olan bir cümle...   e    fff\"\n",
        "\n",
        "print(ornek)\n",
        "\n",
        "\n",
        "print(ornek.strip(\"e\"))\n"
      ],
      "execution_count": null,
      "outputs": [
        {
          "output_type": "stream",
          "text": [
            "eee      başında ve sonunda boşluk olan bir cümle...   e    fff\n",
            "      başında ve sonunda boşluk olan bir cümle...   e    fff\n"
          ],
          "name": "stdout"
        }
      ]
    },
    {
      "cell_type": "code",
      "metadata": {
        "colab": {
          "base_uri": "https://localhost:8080/"
        },
        "id": "Q29pTTv4YxFO",
        "outputId": "3b161c72-e8e8-4d35-f87e-089a68bd2a1c"
      },
      "source": [
        "ornek = \"interoperability\"\n",
        "\n",
        "print(ornek.strip(\"ity\"))\n",
        "\n",
        "print(ornek.strip(\"yti\"))"
      ],
      "execution_count": null,
      "outputs": [
        {
          "output_type": "stream",
          "text": [
            "i ile ayagi\n"
          ],
          "name": "stdout"
        }
      ]
    },
    {
      "cell_type": "code",
      "metadata": {
        "colab": {
          "base_uri": "https://localhost:8080/"
        },
        "id": "Ypp9gUhFacAj",
        "outputId": "eab1d1b3-5cc1-45b9-bc88-13eb6c870644"
      },
      "source": [
        "ornek = \"interoperability\"\n",
        "\n",
        "print(ornek.rstrip(\"inyt\"))"
      ],
      "execution_count": null,
      "outputs": [
        {
          "output_type": "stream",
          "text": [
            "interoperabil\n"
          ],
          "name": "stdout"
        }
      ]
    },
    {
      "cell_type": "code",
      "metadata": {
        "colab": {
          "base_uri": "https://localhost:8080/"
        },
        "id": "b_pFPTEBbHNN",
        "outputId": "69e46979-00b8-4140-fc58-953503952824"
      },
      "source": [
        "ornek = \"     başında ve sonunda boşluk olan bir cümle   \"\n",
        "\n",
        "print(ornek)\n",
        "\n",
        "\n",
        "print(ornek.strip())\n",
        "print(ornek.rstrip())\n",
        "print(ornek.lstrip())\n"
      ],
      "execution_count": null,
      "outputs": [
        {
          "output_type": "stream",
          "text": [
            "     başında ve sonunda boşluk olan bir cümle   \n",
            "başında ve sonunda boşluk olan bir cümle\n",
            "     başında ve sonunda boşluk olan bir cümle\n",
            "başında ve sonunda boşluk olan bir cümle   \n"
          ],
          "name": "stdout"
        }
      ]
    },
    {
      "cell_type": "code",
      "metadata": {
        "colab": {
          "base_uri": "https://localhost:8080/",
          "height": 199
        },
        "id": "YMSBYN5WcarK",
        "outputId": "049d6016-2101-41cd-a294-8a192d12f6a3"
      },
      "source": [
        "ornek = \"interoperability\"\n",
        "\n",
        "print(ornek.rstrip(\"y\", \"t\"))"
      ],
      "execution_count": null,
      "outputs": [
        {
          "output_type": "error",
          "ename": "TypeError",
          "evalue": "ignored",
          "traceback": [
            "\u001b[0;31m---------------------------------------------------------------------------\u001b[0m",
            "\u001b[0;31mTypeError\u001b[0m                                 Traceback (most recent call last)",
            "\u001b[0;32m<ipython-input-82-42b0950b1fa6>\u001b[0m in \u001b[0;36m<module>\u001b[0;34m()\u001b[0m\n\u001b[1;32m      1\u001b[0m \u001b[0mornek\u001b[0m \u001b[0;34m=\u001b[0m \u001b[0;34m\"interoperability\"\u001b[0m\u001b[0;34m\u001b[0m\u001b[0;34m\u001b[0m\u001b[0m\n\u001b[1;32m      2\u001b[0m \u001b[0;34m\u001b[0m\u001b[0m\n\u001b[0;32m----> 3\u001b[0;31m \u001b[0mprint\u001b[0m\u001b[0;34m(\u001b[0m\u001b[0mornek\u001b[0m\u001b[0;34m.\u001b[0m\u001b[0mrstrip\u001b[0m\u001b[0;34m(\u001b[0m\u001b[0;34m\"y\"\u001b[0m\u001b[0;34m,\u001b[0m \u001b[0;34m\"t\"\u001b[0m\u001b[0;34m)\u001b[0m\u001b[0;34m)\u001b[0m\u001b[0;34m\u001b[0m\u001b[0;34m\u001b[0m\u001b[0m\n\u001b[0m",
            "\u001b[0;31mTypeError\u001b[0m: rstrip expected at most 1 arguments, got 2"
          ]
        }
      ]
    },
    {
      "cell_type": "code",
      "metadata": {
        "colab": {
          "base_uri": "https://localhost:8080/"
        },
        "id": "RUVPmalsdJG1",
        "outputId": "8faee24b-268a-4be3-831b-9b0cf8865cae"
      },
      "source": [
        "text = 'tyou can learn almost everything in pre-classz'\n",
        "\n",
        "print(text.strip(\"tz\").upper())\n",
        "print(text.upper().strip(\"TZ\"))\n",
        "\n",
        "print(text.strip(\"tz\").upper())\n"
      ],
      "execution_count": null,
      "outputs": [
        {
          "output_type": "stream",
          "text": [
            "YOU CAN LEARN ALMOST EVERYTHING IN PRE-CLASS\n",
            "YOU CAN LEARN ALMOST EVERYTHING IN PRE-CLASS\n",
            "YOU CAN LEARN ALMOST EVERYTHING IN PRE-CLASS\n"
          ],
          "name": "stdout"
        }
      ]
    },
    {
      "cell_type": "code",
      "metadata": {
        "colab": {
          "base_uri": "https://localhost:8080/"
        },
        "id": "jHuNefUSd6AK",
        "outputId": "862cafbc-75bf-4dc5-adeb-a05749a5795e"
      },
      "source": [
        "text = 'tyou can learn almost everything in pre-classz'\n",
        "a = text.strip()\n",
        "#print(a)\n",
        "b = a.strip(\"tz\")\n",
        "print(b)\n",
        "c = b.upper()\n",
        "print(c)"
      ],
      "execution_count": null,
      "outputs": [
        {
          "output_type": "stream",
          "text": [
            "you can learn almost everything in pre-class\n",
            "YOU CAN LEARN ALMOST EVERYTHING IN PRE-CLASS\n"
          ],
          "name": "stdout"
        }
      ]
    },
    {
      "cell_type": "code",
      "metadata": {
        "colab": {
          "base_uri": "https://localhost:8080/"
        },
        "id": "2CXAuWN1gXtp",
        "outputId": "0ae10d70-3b10-47c3-b5d2-27069cc9a690"
      },
      "source": [
        "text = 'In god wee Trust'\n",
        "\n",
        "\n",
        "print(text.replace('''wee''', \"\"\"We\"\"\"))\n"
      ],
      "execution_count": null,
      "outputs": [
        {
          "output_type": "stream",
          "text": [
            "In god We Trust\n"
          ],
          "name": "stdout"
        }
      ]
    }
  ]
}