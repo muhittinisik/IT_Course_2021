{
  "nbformat": 4,
  "nbformat_minor": 0,
  "metadata": {
    "colab": {
      "name": "Assignment.ipynb",
      "provenance": []
    },
    "kernelspec": {
      "name": "python3",
      "display_name": "Python 3"
    },
    "language_info": {
      "name": "python"
    }
  },
  "cells": [
    {
      "cell_type": "code",
      "metadata": {
        "id": "9JUa3sAhWg_d"
      },
      "source": [
        "## The Most Frequent Number\n",
        "\n",
        "numbers = [1, 3, 7, 4, 3, 0, 3, 6, 3]\n",
        "most_freq_num= max(numbers,key=numbers.count)\n",
        "times_repeat =  numbers.count(max(numbers, key=numbers.count))\n",
        "print(\"the most frequent number is\", most_freq_numb, \"and it was\", times_repeat, \"times repeated\")"
      ],
      "execution_count": null,
      "outputs": []
    },
    {
      "cell_type": "code",
      "metadata": {
        "id": "OFZqrc9EbZ_i"
      },
      "source": [
        "## Assignment-008/2 (Profit Calculation)\n",
        "## Task-1 (Bu program bir ürünün satışından elde edilen toplam karı hesaplar.)\n",
        "\n",
        "sales = {\n",
        "  \"cost_value\": 31.87,\n",
        "  \"sell_value\": 45.00,\n",
        "  \"inventory\": 1000\n",
        "}\n",
        "total_profit = round((sales[\"sell_value\"]- sales[\"cost_value\"])*sales[\"inventory\"])\n",
        "print(total_profit)\n",
        "\n",
        "## Task-2 (Bu program bordro hazırlama esnasında girilen tutarı 2 haneli miktara çevirir.)\n",
        "\n",
        "tutar = float (input(\"Lütfen para miktarını \"Float\" tipinde giriniz:\"))\n",
        "print (\"$\", '%.2f' % (tutar), sep=\"\")"
      ],
      "execution_count": null,
      "outputs": []
    },
    {
      "cell_type": "code",
      "metadata": {
        "colab": {
          "base_uri": "https://localhost:8080/"
        },
        "id": "v_ykSkJmcaXi",
        "outputId": "419d2c32-03fc-446b-aa17-b3feef9d2300"
      },
      "source": [
        "# Assignment-008/3 (Comfortable Words)\n",
        "# Klavyeye girilen bir kelimenin comfortable (her iki el ile yazılan) word olup olmadığını belirleme \n",
        "\n",
        "word = set(\"clarusway\")\n",
        "left = set(\"qwertasdfgzxcvb\")\n",
        "right = set(\"yuiophjklmn\") \n",
        "leftcheck = bool(word.intersection(left))\n",
        "rightcheck = bool(word.intersection(right))\n",
        "print(leftcheck and rightcheck)\n"
      ],
      "execution_count": null,
      "outputs": [
        {
          "output_type": "stream",
          "text": [
            "True\n"
          ],
          "name": "stdout"
        }
      ]
    }
  ]
}