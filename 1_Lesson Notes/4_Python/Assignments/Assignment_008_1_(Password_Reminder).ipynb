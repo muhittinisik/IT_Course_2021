{
  "nbformat": 4,
  "nbformat_minor": 0,
  "metadata": {
    "colab": {
      "name": "Assignment-008/1 (Password Reminder).ipynb",
      "provenance": []
    },
    "kernelspec": {
      "name": "python3",
      "display_name": "Python 3"
    },
    "language_info": {
      "name": "python"
    }
  },
  "cells": [
    {
      "cell_type": "code",
      "metadata": {
        "id": "A6jiFIKzntbq"
      },
      "source": [
        "# Assignment-008/1 (Password Reminder)\n",
        "\n",
        "my_name = \"metin\"\n",
        "password = \"Fr154278..\"\n",
        "username = input(\"Enter your first name: \")\n",
        "if username == my_name:\n",
        "  print(\"Hello, {}! The password is: {}\".format(username, password))\n",
        "else:\n",
        "  print(\"Hello, {}! See you later.\".format(username))"
      ],
      "execution_count": null,
      "outputs": []
    }
  ]
}